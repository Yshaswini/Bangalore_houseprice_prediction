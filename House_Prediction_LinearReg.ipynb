{
 "cells": [
  {
   "cell_type": "markdown",
   "id": "02d38d0a",
   "metadata": {},
   "source": [
    "#### Loading of required libraries"
   ]
  },
  {
   "cell_type": "code",
   "execution_count": 1,
   "id": "5ed4faa5",
   "metadata": {},
   "outputs": [],
   "source": [
    "## The below code shows the generic way of building the Linear Regression model and to check the error metrics"
   ]
  },
  {
   "cell_type": "code",
   "execution_count": 2,
   "id": "ca975c82",
   "metadata": {},
   "outputs": [],
   "source": [
    "import numpy as np\n",
    "import pandas as pd\n",
    "import matplotlib.pyplot as plt\n",
    "import seaborn as sns\n",
    "import statsmodels.api as sm\n",
    "from sklearn.preprocessing import StandardScaler\n",
    "from sklearn.model_selection import train_test_split\n",
    "from sklearn.metrics import mean_squared_error, r2_score\n",
    "from sklearn.linear_model import LinearRegression\n",
    "from sklearn.preprocessing import OneHotEncoder"
   ]
  },
  {
   "cell_type": "markdown",
   "id": "eb9a720c",
   "metadata": {},
   "source": [
    "#### Data loading"
   ]
  },
  {
   "cell_type": "code",
   "execution_count": 3,
   "id": "098082c2",
   "metadata": {},
   "outputs": [],
   "source": [
    "data = pd.read_csv(r'train_(2)_(1).csv')"
   ]
  },
  {
   "cell_type": "code",
   "execution_count": 4,
   "id": "2a5a917f",
   "metadata": {},
   "outputs": [
    {
     "name": "stdout",
     "output_type": "stream",
     "text": [
      "<class 'pandas.core.frame.DataFrame'>\n",
      "RangeIndex: 10656 entries, 0 to 10655\n",
      "Data columns (total 10 columns):\n",
      " #   Column        Non-Null Count  Dtype  \n",
      "---  ------        --------------  -----  \n",
      " 0   ID            10656 non-null  int64  \n",
      " 1   area_type     10656 non-null  object \n",
      " 2   availability  10656 non-null  object \n",
      " 3   location      10655 non-null  object \n",
      " 4   size          10642 non-null  object \n",
      " 5   society       6228 non-null   object \n",
      " 6   total_sqft    10656 non-null  object \n",
      " 7   bath          10591 non-null  float64\n",
      " 8   balcony       10152 non-null  float64\n",
      " 9   price         10656 non-null  float64\n",
      "dtypes: float64(3), int64(1), object(6)\n",
      "memory usage: 832.6+ KB\n"
     ]
    }
   ],
   "source": [
    "data.info()"
   ]
  },
  {
   "cell_type": "code",
   "execution_count": 5,
   "id": "987753c2",
   "metadata": {},
   "outputs": [
    {
     "data": {
      "text/plain": [
       "(10656, 10)"
      ]
     },
     "execution_count": 5,
     "metadata": {},
     "output_type": "execute_result"
    }
   ],
   "source": [
    "data.shape"
   ]
  },
  {
   "cell_type": "code",
   "execution_count": 6,
   "id": "ca13c17c",
   "metadata": {},
   "outputs": [
    {
     "data": {
      "text/html": [
       "<div>\n",
       "<style scoped>\n",
       "    .dataframe tbody tr th:only-of-type {\n",
       "        vertical-align: middle;\n",
       "    }\n",
       "\n",
       "    .dataframe tbody tr th {\n",
       "        vertical-align: top;\n",
       "    }\n",
       "\n",
       "    .dataframe thead th {\n",
       "        text-align: right;\n",
       "    }\n",
       "</style>\n",
       "<table border=\"1\" class=\"dataframe\">\n",
       "  <thead>\n",
       "    <tr style=\"text-align: right;\">\n",
       "      <th></th>\n",
       "      <th>ID</th>\n",
       "      <th>area_type</th>\n",
       "      <th>availability</th>\n",
       "      <th>location</th>\n",
       "      <th>size</th>\n",
       "      <th>society</th>\n",
       "      <th>total_sqft</th>\n",
       "      <th>bath</th>\n",
       "      <th>balcony</th>\n",
       "      <th>price</th>\n",
       "    </tr>\n",
       "  </thead>\n",
       "  <tbody>\n",
       "    <tr>\n",
       "      <th>0</th>\n",
       "      <td>0</td>\n",
       "      <td>Super built-up  Area</td>\n",
       "      <td>19-Dec</td>\n",
       "      <td>Electronic City Phase II</td>\n",
       "      <td>2 BHK</td>\n",
       "      <td>Coomee</td>\n",
       "      <td>1056</td>\n",
       "      <td>2.0</td>\n",
       "      <td>1.0</td>\n",
       "      <td>39.07</td>\n",
       "    </tr>\n",
       "    <tr>\n",
       "      <th>1</th>\n",
       "      <td>1</td>\n",
       "      <td>Plot  Area</td>\n",
       "      <td>Ready To Move</td>\n",
       "      <td>Chikka Tirupathi</td>\n",
       "      <td>4 Bedroom</td>\n",
       "      <td>Theanmp</td>\n",
       "      <td>2600</td>\n",
       "      <td>5.0</td>\n",
       "      <td>3.0</td>\n",
       "      <td>120.00</td>\n",
       "    </tr>\n",
       "  </tbody>\n",
       "</table>\n",
       "</div>"
      ],
      "text/plain": [
       "   ID             area_type   availability                  location  \\\n",
       "0   0  Super built-up  Area         19-Dec  Electronic City Phase II   \n",
       "1   1            Plot  Area  Ready To Move          Chikka Tirupathi   \n",
       "\n",
       "        size  society total_sqft  bath  balcony   price  \n",
       "0      2 BHK  Coomee        1056   2.0      1.0   39.07  \n",
       "1  4 Bedroom  Theanmp       2600   5.0      3.0  120.00  "
      ]
     },
     "execution_count": 6,
     "metadata": {},
     "output_type": "execute_result"
    }
   ],
   "source": [
    "data.head(2)"
   ]
  },
  {
   "cell_type": "markdown",
   "id": "cfa5805b",
   "metadata": {},
   "source": [
    "#### Data pre-processing Data Cleaning"
   ]
  },
  {
   "cell_type": "code",
   "execution_count": 7,
   "id": "2dd6e154",
   "metadata": {},
   "outputs": [
    {
     "data": {
      "text/plain": [
       "ID                 0\n",
       "area_type          0\n",
       "availability       0\n",
       "location           1\n",
       "size              14\n",
       "society         4428\n",
       "total_sqft         0\n",
       "bath              65\n",
       "balcony          504\n",
       "price              0\n",
       "dtype: int64"
      ]
     },
     "execution_count": 7,
     "metadata": {},
     "output_type": "execute_result"
    }
   ],
   "source": [
    "# checking missing values\n",
    "data.isnull().sum()"
   ]
  },
  {
   "cell_type": "code",
   "execution_count": 8,
   "id": "db82ca8a",
   "metadata": {},
   "outputs": [
    {
     "data": {
      "image/png": "[encoded data removed]",
      "text/plain": [
       "<Figure size 1080x360 with 2 Axes>"
      ]
     },
     "metadata": {
      "needs_background": "light"
     },
     "output_type": "display_data"
    }
   ],
   "source": [
    "plt.figure(figsize = [15,5])\n",
    "sns.heatmap(data.isnull())\n",
    "plt.show()"
   ]
  },
  {
   "cell_type": "code",
   "execution_count": 9,
   "id": "a903f718",
   "metadata": {},
   "outputs": [],
   "source": [
    "# Define conversion factors\n",
    "conversion_factors = {\n",
    "    'Sq. Meter': 10.7639,  # 1 Sq. Meter = 10.7639 Sq. Ft\n",
    "    'Sq. Yards': 9,        # 1 Sq. Yard = 9 Sq. Ft\n",
    "    'Acres': 43560,        # 1 Acre = 43560 Sq. Ft\n",
    "    'Guntha': 1089,        # 1 Guntha = 1089 Sq. Ft\n",
    "    'Cents': 435.6,        # 1 Cent = 435.6 Sq. Ft\n",
    "    'Perch': 272.25,       # 1 Perch = 272.25 Sq. Ft\n",
    "    'Grounds': 2400        # 1 Ground = 2400 Sq. Ft\n",
    "}\n",
    "\n",
    "# Function to convert to Sq Ft\n",
    "def convert_to_sq_ft(value):\n",
    "    try:\n",
    "        if any(unit in value for unit in conversion_factors):   # Check if the value has a unit or is numeric\n",
    "            for unit in conversion_factors:                     # Split the numeric part and the unit\n",
    "                if unit in value:\n",
    "                    number = float(value.replace(unit, '').strip())\n",
    "                    return number * conversion_factors[unit]     # Convert using the factor\n",
    "        else:                                                    # If no unit is specified, assume the value is already in Sq Ft\n",
    "            return float(value)\n",
    "    except (ValueError, KeyError):\n",
    "        return value                                              # Return the original value if conversion fails\n",
    "\n"
   ]
  },
  {
   "cell_type": "code",
   "execution_count": 10,
   "id": "12c88b58",
   "metadata": {},
   "outputs": [],
   "source": [
    "def mean_for_range(df):\n",
    "    ind = df.index\n",
    "    for i in ind:\n",
    "        if '-' in df.loc[i, 'total_sqft']:\n",
    "            t = df.loc[i]['total_sqft'].split(sep='-')\n",
    "            df.at[i ,'total_sqft_converted'] = (float(t[0]) + float(t[1]))/2\n",
    "    return df\n",
    "\n"
   ]
  },
  {
   "cell_type": "code",
   "execution_count": 11,
   "id": "22e12073",
   "metadata": {},
   "outputs": [],
   "source": [
    "# We have observed that there are missing values in the dataset \n",
    "# Within the Data_pre_processing we handling the missing values\n",
    "\n",
    "def Data_pre_processing(data):\n",
    "    # dropping the unnecessary columns\n",
    "    data.drop(columns = ['ID','society','availability'] ,axis = 1 , inplace = True)\n",
    "    \n",
    "    # dropping null values\n",
    "    data.dropna(subset= ['size','location','bath'],inplace = True)\n",
    "    \n",
    "    # data imputation for null values\n",
    "    data['balcony'].fillna(data['balcony'].mode()[0], inplace=True)\n",
    "    \n",
    "    data['size'] = data['size'].str.extract(r'(\\d+)')\n",
    "\n",
    "    # converting to int\n",
    "    data['size'] = data['size'].astype('int')\n",
    "\n",
    "    data['total_sqft_converted'] = data['total_sqft'].apply(convert_to_sq_ft)\n",
    "    data = mean_for_range(data)\n",
    "    data['total_sqft_converted'] = data['total_sqft_converted'].astype(float)\n",
    "\n",
    "    #dropping 'total_sqft' since total_sqft_converted is created\n",
    "    data.drop(columns = 'total_sqft',axis = 1,inplace = True)\n",
    "\n",
    "    # standardising the 'location' filed\n",
    "    data['location'] = data['location'].str.strip().str.upper()\n",
    "    \n",
    "    return data\n",
    "    "
   ]
  },
  {
   "cell_type": "code",
   "execution_count": 12,
   "id": "9f5232d7",
   "metadata": {},
   "outputs": [],
   "source": [
    "def outlier_treatment(data):\n",
    "    for i in data.columns:\n",
    "        q1 = data[i].quantile(0.25)\n",
    "        q3 = data[i].quantile(0.75)\n",
    "        IQR = q3 - q1\n",
    "        lb = q1 - 1.5 * IQR  # Lower bound\n",
    "        ub = q3 + 1.5 * IQR  # Upper bound\n",
    "\n",
    "        # Define 10th and 90th percentiles\n",
    "        quantile_10 = data[i].quantile(0.10)\n",
    "        quantile_90 = data[i].quantile(0.90)\n",
    "\n",
    "        data[i] = np.where(data[i] < lb, quantile_10, data[i])\n",
    "        data[i] = np.where(data[i] > ub, quantile_90, data[i])\n",
    "\n",
    "    return data"
   ]
  },
  {
   "cell_type": "code",
   "execution_count": null,
   "id": "dee0b2ba",
   "metadata": {},
   "outputs": [],
   "source": []
  },
  {
   "cell_type": "markdown",
   "id": "7970be1f",
   "metadata": {},
   "source": [
    "##### Calling function to perform data pre-process and outlier treatment"
   ]
  },
  {
   "cell_type": "code",
   "execution_count": 13,
   "id": "f53addc5",
   "metadata": {},
   "outputs": [],
   "source": [
    "data = Data_pre_processing(data)"
   ]
  },
  {
   "cell_type": "code",
   "execution_count": 14,
   "id": "2462f5f0",
   "metadata": {},
   "outputs": [
    {
     "data": {
      "image/png": "[encoded data removed]",
      "text/plain": [
       "<Figure size 1080x360 with 2 Axes>"
      ]
     },
     "metadata": {
      "needs_background": "light"
     },
     "output_type": "display_data"
    }
   ],
   "source": [
    "plt.figure(figsize = [15,5])\n",
    "sns.heatmap(data.isnull())\n",
    "plt.show()"
   ]
  },
  {
   "cell_type": "code",
   "execution_count": 15,
   "id": "90fbb711",
   "metadata": {},
   "outputs": [],
   "source": [
    "data_num1 = data.select_dtypes(include = np.number)\n",
    "data_cat1 = data.select_dtypes(include = object)\n",
    "\n",
    "data_num1 = outlier_treatment(data_num1)\n",
    "\n",
    "# combining categorical and numerical column\n",
    "data = pd.concat([data_cat1, data_num1],axis = 1)"
   ]
  },
  {
   "cell_type": "code",
   "execution_count": 16,
   "id": "26d06f10",
   "metadata": {},
   "outputs": [
    {
     "data": {
      "text/plain": [
       "(10590, 7)"
      ]
     },
     "execution_count": 16,
     "metadata": {},
     "output_type": "execute_result"
    }
   ],
   "source": [
    "data.shape"
   ]
  },
  {
   "cell_type": "code",
   "execution_count": 17,
   "id": "af4e63a9",
   "metadata": {},
   "outputs": [
    {
     "name": "stdout",
     "output_type": "stream",
     "text": [
      "<class 'pandas.core.frame.DataFrame'>\n",
      "Int64Index: 10590 entries, 0 to 10655\n",
      "Data columns (total 7 columns):\n",
      " #   Column                Non-Null Count  Dtype  \n",
      "---  ------                --------------  -----  \n",
      " 0   area_type             10590 non-null  object \n",
      " 1   location              10590 non-null  object \n",
      " 2   size                  10590 non-null  float64\n",
      " 3   bath                  10590 non-null  float64\n",
      " 4   balcony               10590 non-null  float64\n",
      " 5   price                 10590 non-null  float64\n",
      " 6   total_sqft_converted  10590 non-null  float64\n",
      "dtypes: float64(5), object(2)\n",
      "memory usage: 919.9+ KB\n"
     ]
    }
   ],
   "source": [
    "data.info()"
   ]
  },
  {
   "cell_type": "code",
   "execution_count": 18,
   "id": "8f57166a",
   "metadata": {},
   "outputs": [
    {
     "data": {
      "text/html": [
       "<div>\n",
       "<style scoped>\n",
       "    .dataframe tbody tr th:only-of-type {\n",
       "        vertical-align: middle;\n",
       "    }\n",
       "\n",
       "    .dataframe tbody tr th {\n",
       "        vertical-align: top;\n",
       "    }\n",
       "\n",
       "    .dataframe thead th {\n",
       "        text-align: right;\n",
       "    }\n",
       "</style>\n",
       "<table border=\"1\" class=\"dataframe\">\n",
       "  <thead>\n",
       "    <tr style=\"text-align: right;\">\n",
       "      <th></th>\n",
       "      <th>area_type</th>\n",
       "      <th>location</th>\n",
       "      <th>size</th>\n",
       "      <th>bath</th>\n",
       "      <th>balcony</th>\n",
       "      <th>price</th>\n",
       "      <th>total_sqft_converted</th>\n",
       "    </tr>\n",
       "  </thead>\n",
       "  <tbody>\n",
       "    <tr>\n",
       "      <th>0</th>\n",
       "      <td>Super built-up  Area</td>\n",
       "      <td>ELECTRONIC CITY PHASE II</td>\n",
       "      <td>2.0</td>\n",
       "      <td>2.0</td>\n",
       "      <td>1.0</td>\n",
       "      <td>39.07</td>\n",
       "      <td>1056.0</td>\n",
       "    </tr>\n",
       "    <tr>\n",
       "      <th>1</th>\n",
       "      <td>Plot  Area</td>\n",
       "      <td>CHIKKA TIRUPATHI</td>\n",
       "      <td>4.0</td>\n",
       "      <td>4.0</td>\n",
       "      <td>3.0</td>\n",
       "      <td>120.00</td>\n",
       "      <td>2425.0</td>\n",
       "    </tr>\n",
       "    <tr>\n",
       "      <th>2</th>\n",
       "      <td>Built-up  Area</td>\n",
       "      <td>UTTARAHALLI</td>\n",
       "      <td>3.0</td>\n",
       "      <td>2.0</td>\n",
       "      <td>3.0</td>\n",
       "      <td>62.00</td>\n",
       "      <td>1440.0</td>\n",
       "    </tr>\n",
       "    <tr>\n",
       "      <th>3</th>\n",
       "      <td>Super built-up  Area</td>\n",
       "      <td>LINGADHEERANAHALLI</td>\n",
       "      <td>3.0</td>\n",
       "      <td>3.0</td>\n",
       "      <td>1.0</td>\n",
       "      <td>95.00</td>\n",
       "      <td>1521.0</td>\n",
       "    </tr>\n",
       "    <tr>\n",
       "      <th>4</th>\n",
       "      <td>Super built-up  Area</td>\n",
       "      <td>KOTHANUR</td>\n",
       "      <td>2.0</td>\n",
       "      <td>2.0</td>\n",
       "      <td>1.0</td>\n",
       "      <td>51.00</td>\n",
       "      <td>1200.0</td>\n",
       "    </tr>\n",
       "    <tr>\n",
       "      <th>...</th>\n",
       "      <td>...</td>\n",
       "      <td>...</td>\n",
       "      <td>...</td>\n",
       "      <td>...</td>\n",
       "      <td>...</td>\n",
       "      <td>...</td>\n",
       "      <td>...</td>\n",
       "    </tr>\n",
       "    <tr>\n",
       "      <th>10651</th>\n",
       "      <td>Plot  Area</td>\n",
       "      <td>PARAPPANA AGRAHARA</td>\n",
       "      <td>1.0</td>\n",
       "      <td>1.0</td>\n",
       "      <td>0.0</td>\n",
       "      <td>45.00</td>\n",
       "      <td>1200.0</td>\n",
       "    </tr>\n",
       "    <tr>\n",
       "      <th>10652</th>\n",
       "      <td>Super built-up  Area</td>\n",
       "      <td>BHOGANHALLI</td>\n",
       "      <td>2.0</td>\n",
       "      <td>2.0</td>\n",
       "      <td>1.0</td>\n",
       "      <td>69.90</td>\n",
       "      <td>1260.0</td>\n",
       "    </tr>\n",
       "    <tr>\n",
       "      <th>10653</th>\n",
       "      <td>Super built-up  Area</td>\n",
       "      <td>DODDANAKUNDI INDUSTRIAL AREA 2</td>\n",
       "      <td>2.0</td>\n",
       "      <td>2.0</td>\n",
       "      <td>1.0</td>\n",
       "      <td>49.00</td>\n",
       "      <td>1092.0</td>\n",
       "    </tr>\n",
       "    <tr>\n",
       "      <th>10654</th>\n",
       "      <td>Super built-up  Area</td>\n",
       "      <td>KACHANAYAKANAHALLI</td>\n",
       "      <td>2.0</td>\n",
       "      <td>2.0</td>\n",
       "      <td>0.0</td>\n",
       "      <td>34.00</td>\n",
       "      <td>827.0</td>\n",
       "    </tr>\n",
       "    <tr>\n",
       "      <th>10655</th>\n",
       "      <td>Super built-up  Area</td>\n",
       "      <td>HORAMAVU BANASWADI</td>\n",
       "      <td>2.0</td>\n",
       "      <td>2.0</td>\n",
       "      <td>2.0</td>\n",
       "      <td>54.00</td>\n",
       "      <td>1357.0</td>\n",
       "    </tr>\n",
       "  </tbody>\n",
       "</table>\n",
       "<p>10590 rows × 7 columns</p>\n",
       "</div>"
      ],
      "text/plain": [
       "                  area_type                        location  size  bath  \\\n",
       "0      Super built-up  Area        ELECTRONIC CITY PHASE II   2.0   2.0   \n",
       "1                Plot  Area                CHIKKA TIRUPATHI   4.0   4.0   \n",
       "2            Built-up  Area                     UTTARAHALLI   3.0   2.0   \n",
       "3      Super built-up  Area              LINGADHEERANAHALLI   3.0   3.0   \n",
       "4      Super built-up  Area                        KOTHANUR   2.0   2.0   \n",
       "...                     ...                             ...   ...   ...   \n",
       "10651            Plot  Area              PARAPPANA AGRAHARA   1.0   1.0   \n",
       "10652  Super built-up  Area                     BHOGANHALLI   2.0   2.0   \n",
       "10653  Super built-up  Area  DODDANAKUNDI INDUSTRIAL AREA 2   2.0   2.0   \n",
       "10654  Super built-up  Area              KACHANAYAKANAHALLI   2.0   2.0   \n",
       "10655  Super built-up  Area              HORAMAVU BANASWADI   2.0   2.0   \n",
       "\n",
       "       balcony   price  total_sqft_converted  \n",
       "0          1.0   39.07                1056.0  \n",
       "1          3.0  120.00                2425.0  \n",
       "2          3.0   62.00                1440.0  \n",
       "3          1.0   95.00                1521.0  \n",
       "4          1.0   51.00                1200.0  \n",
       "...        ...     ...                   ...  \n",
       "10651      0.0   45.00                1200.0  \n",
       "10652      1.0   69.90                1260.0  \n",
       "10653      1.0   49.00                1092.0  \n",
       "10654      0.0   34.00                 827.0  \n",
       "10655      2.0   54.00                1357.0  \n",
       "\n",
       "[10590 rows x 7 columns]"
      ]
     },
     "execution_count": 18,
     "metadata": {},
     "output_type": "execute_result"
    }
   ],
   "source": [
    "data"
   ]
  },
  {
   "cell_type": "markdown",
   "id": "ed149c2c",
   "metadata": {},
   "source": [
    "#### encoding area_type column"
   ]
  },
  {
   "cell_type": "code",
   "execution_count": 19,
   "id": "b99cbf05",
   "metadata": {},
   "outputs": [],
   "source": [
    "encoder = OneHotEncoder(sparse=True)\n",
    "area_enc = encoder.fit_transform(data[['area_type']]).toarray()\n",
    "\n",
    "# convert Sparce matrix to dataframe\n",
    "df_area_enc = pd.DataFrame(area_enc ,columns = encoder.get_feature_names_out()).reset_index(drop=True)\n",
    "\n",
    "# concatenate the encoded dataframe with original df along column\n",
    "#data = pd.concat([data,df_area_enc],axis = 1).reset_index(drop=True)"
   ]
  },
  {
   "cell_type": "code",
   "execution_count": 20,
   "id": "14610c25",
   "metadata": {},
   "outputs": [
    {
     "name": "stdout",
     "output_type": "stream",
     "text": [
      "(10590, 7)\n",
      "(10590, 4)\n"
     ]
    }
   ],
   "source": [
    "print(data.shape)          # Should be (10590, 7)\n",
    "print(df_area_enc.shape)"
   ]
  },
  {
   "cell_type": "code",
   "execution_count": 21,
   "id": "7d02f9f6",
   "metadata": {},
   "outputs": [],
   "source": [
    "data.reset_index(drop=True, inplace=True)\n",
    "df_area_enc.reset_index(drop=True, inplace=True)"
   ]
  },
  {
   "cell_type": "code",
   "execution_count": 22,
   "id": "33adf34c",
   "metadata": {},
   "outputs": [],
   "source": [
    "data = pd.concat([data, df_area_enc], axis=1)"
   ]
  },
  {
   "cell_type": "code",
   "execution_count": 23,
   "id": "065606a6",
   "metadata": {},
   "outputs": [
    {
     "data": {
      "text/plain": [
       "(10590, 11)"
      ]
     },
     "execution_count": 23,
     "metadata": {},
     "output_type": "execute_result"
    }
   ],
   "source": [
    "data.shape"
   ]
  },
  {
   "cell_type": "markdown",
   "id": "e0455237",
   "metadata": {},
   "source": [
    "#### Frequency encoding on location"
   ]
  },
  {
   "cell_type": "code",
   "execution_count": 24,
   "id": "e1e805ed",
   "metadata": {},
   "outputs": [],
   "source": [
    "# grouping by frequency\n",
    "fq = data.groupby('location').size()/len(data)\n",
    "\n",
    "# mapping values to dataframe\n",
    "data.loc[:, \"{}_freq_encode\".format('location')] = data['location'].map(fq)"
   ]
  },
  {
   "cell_type": "code",
   "execution_count": 25,
   "id": "02a6cc7d",
   "metadata": {},
   "outputs": [
    {
     "data": {
      "text/plain": [
       "(10590, 12)"
      ]
     },
     "execution_count": 25,
     "metadata": {},
     "output_type": "execute_result"
    }
   ],
   "source": [
    "data.shape"
   ]
  },
  {
   "cell_type": "code",
   "execution_count": 26,
   "id": "6f050bfa",
   "metadata": {},
   "outputs": [],
   "source": [
    "Y = data['price']\n",
    "data = data.drop('price' , axis = 1)"
   ]
  },
  {
   "cell_type": "markdown",
   "id": "af2d88b7",
   "metadata": {},
   "source": [
    "#### Scaling the numeric columns"
   ]
  },
  {
   "cell_type": "code",
   "execution_count": 27,
   "id": "c514d254",
   "metadata": {},
   "outputs": [
    {
     "data": {
      "text/plain": [
       "area_type                          object\n",
       "location                           object\n",
       "size                              float64\n",
       "bath                              float64\n",
       "balcony                           float64\n",
       "total_sqft_converted              float64\n",
       "area_type_Built-up  Area          float64\n",
       "area_type_Carpet  Area            float64\n",
       "area_type_Plot  Area              float64\n",
       "area_type_Super built-up  Area    float64\n",
       "location_freq_encode              float64\n",
       "dtype: object"
      ]
     },
     "execution_count": 27,
     "metadata": {},
     "output_type": "execute_result"
    }
   ],
   "source": [
    "data.dtypes"
   ]
  },
  {
   "cell_type": "code",
   "execution_count": 28,
   "id": "d0751e85",
   "metadata": {},
   "outputs": [],
   "source": [
    "# dropping the original columns after doing encoding\n",
    "data.drop(columns=['area_type','location'],axis=1,inplace = True)"
   ]
  },
  {
   "cell_type": "code",
   "execution_count": 29,
   "id": "a97fdd0e",
   "metadata": {},
   "outputs": [
    {
     "data": {
      "text/html": [
       "<div>\n",
       "<style scoped>\n",
       "    .dataframe tbody tr th:only-of-type {\n",
       "        vertical-align: middle;\n",
       "    }\n",
       "\n",
       "    .dataframe tbody tr th {\n",
       "        vertical-align: top;\n",
       "    }\n",
       "\n",
       "    .dataframe thead th {\n",
       "        text-align: right;\n",
       "    }\n",
       "</style>\n",
       "<table border=\"1\" class=\"dataframe\">\n",
       "  <thead>\n",
       "    <tr style=\"text-align: right;\">\n",
       "      <th></th>\n",
       "      <th>size</th>\n",
       "      <th>bath</th>\n",
       "      <th>balcony</th>\n",
       "      <th>total_sqft_converted</th>\n",
       "      <th>area_type_Built-up  Area</th>\n",
       "      <th>area_type_Carpet  Area</th>\n",
       "      <th>area_type_Plot  Area</th>\n",
       "      <th>area_type_Super built-up  Area</th>\n",
       "      <th>location_freq_encode</th>\n",
       "    </tr>\n",
       "  </thead>\n",
       "  <tbody>\n",
       "    <tr>\n",
       "      <th>0</th>\n",
       "      <td>2.0</td>\n",
       "      <td>2.0</td>\n",
       "      <td>1.0</td>\n",
       "      <td>1056.0</td>\n",
       "      <td>0.0</td>\n",
       "      <td>0.0</td>\n",
       "      <td>0.0</td>\n",
       "      <td>1.0</td>\n",
       "      <td>0.009348</td>\n",
       "    </tr>\n",
       "    <tr>\n",
       "      <th>1</th>\n",
       "      <td>4.0</td>\n",
       "      <td>4.0</td>\n",
       "      <td>3.0</td>\n",
       "      <td>2425.0</td>\n",
       "      <td>0.0</td>\n",
       "      <td>0.0</td>\n",
       "      <td>1.0</td>\n",
       "      <td>0.0</td>\n",
       "      <td>0.001228</td>\n",
       "    </tr>\n",
       "    <tr>\n",
       "      <th>2</th>\n",
       "      <td>3.0</td>\n",
       "      <td>2.0</td>\n",
       "      <td>3.0</td>\n",
       "      <td>1440.0</td>\n",
       "      <td>1.0</td>\n",
       "      <td>0.0</td>\n",
       "      <td>0.0</td>\n",
       "      <td>0.0</td>\n",
       "      <td>0.014353</td>\n",
       "    </tr>\n",
       "    <tr>\n",
       "      <th>3</th>\n",
       "      <td>3.0</td>\n",
       "      <td>3.0</td>\n",
       "      <td>1.0</td>\n",
       "      <td>1521.0</td>\n",
       "      <td>0.0</td>\n",
       "      <td>0.0</td>\n",
       "      <td>0.0</td>\n",
       "      <td>1.0</td>\n",
       "      <td>0.001700</td>\n",
       "    </tr>\n",
       "    <tr>\n",
       "      <th>4</th>\n",
       "      <td>2.0</td>\n",
       "      <td>2.0</td>\n",
       "      <td>1.0</td>\n",
       "      <td>1200.0</td>\n",
       "      <td>0.0</td>\n",
       "      <td>0.0</td>\n",
       "      <td>0.0</td>\n",
       "      <td>1.0</td>\n",
       "      <td>0.004060</td>\n",
       "    </tr>\n",
       "    <tr>\n",
       "      <th>...</th>\n",
       "      <td>...</td>\n",
       "      <td>...</td>\n",
       "      <td>...</td>\n",
       "      <td>...</td>\n",
       "      <td>...</td>\n",
       "      <td>...</td>\n",
       "      <td>...</td>\n",
       "      <td>...</td>\n",
       "      <td>...</td>\n",
       "    </tr>\n",
       "    <tr>\n",
       "      <th>10585</th>\n",
       "      <td>1.0</td>\n",
       "      <td>1.0</td>\n",
       "      <td>0.0</td>\n",
       "      <td>1200.0</td>\n",
       "      <td>0.0</td>\n",
       "      <td>0.0</td>\n",
       "      <td>1.0</td>\n",
       "      <td>0.0</td>\n",
       "      <td>0.001039</td>\n",
       "    </tr>\n",
       "    <tr>\n",
       "      <th>10586</th>\n",
       "      <td>2.0</td>\n",
       "      <td>2.0</td>\n",
       "      <td>1.0</td>\n",
       "      <td>1260.0</td>\n",
       "      <td>0.0</td>\n",
       "      <td>0.0</td>\n",
       "      <td>0.0</td>\n",
       "      <td>1.0</td>\n",
       "      <td>0.003777</td>\n",
       "    </tr>\n",
       "    <tr>\n",
       "      <th>10587</th>\n",
       "      <td>2.0</td>\n",
       "      <td>2.0</td>\n",
       "      <td>1.0</td>\n",
       "      <td>1092.0</td>\n",
       "      <td>0.0</td>\n",
       "      <td>0.0</td>\n",
       "      <td>0.0</td>\n",
       "      <td>1.0</td>\n",
       "      <td>0.000283</td>\n",
       "    </tr>\n",
       "    <tr>\n",
       "      <th>10588</th>\n",
       "      <td>2.0</td>\n",
       "      <td>2.0</td>\n",
       "      <td>0.0</td>\n",
       "      <td>827.0</td>\n",
       "      <td>0.0</td>\n",
       "      <td>0.0</td>\n",
       "      <td>0.0</td>\n",
       "      <td>1.0</td>\n",
       "      <td>0.000283</td>\n",
       "    </tr>\n",
       "    <tr>\n",
       "      <th>10589</th>\n",
       "      <td>2.0</td>\n",
       "      <td>2.0</td>\n",
       "      <td>2.0</td>\n",
       "      <td>1357.0</td>\n",
       "      <td>0.0</td>\n",
       "      <td>0.0</td>\n",
       "      <td>0.0</td>\n",
       "      <td>1.0</td>\n",
       "      <td>0.001983</td>\n",
       "    </tr>\n",
       "  </tbody>\n",
       "</table>\n",
       "<p>10590 rows × 9 columns</p>\n",
       "</div>"
      ],
      "text/plain": [
       "       size  bath  balcony  total_sqft_converted  area_type_Built-up  Area  \\\n",
       "0       2.0   2.0      1.0                1056.0                       0.0   \n",
       "1       4.0   4.0      3.0                2425.0                       0.0   \n",
       "2       3.0   2.0      3.0                1440.0                       1.0   \n",
       "3       3.0   3.0      1.0                1521.0                       0.0   \n",
       "4       2.0   2.0      1.0                1200.0                       0.0   \n",
       "...     ...   ...      ...                   ...                       ...   \n",
       "10585   1.0   1.0      0.0                1200.0                       0.0   \n",
       "10586   2.0   2.0      1.0                1260.0                       0.0   \n",
       "10587   2.0   2.0      1.0                1092.0                       0.0   \n",
       "10588   2.0   2.0      0.0                 827.0                       0.0   \n",
       "10589   2.0   2.0      2.0                1357.0                       0.0   \n",
       "\n",
       "       area_type_Carpet  Area  area_type_Plot  Area  \\\n",
       "0                         0.0                   0.0   \n",
       "1                         0.0                   1.0   \n",
       "2                         0.0                   0.0   \n",
       "3                         0.0                   0.0   \n",
       "4                         0.0                   0.0   \n",
       "...                       ...                   ...   \n",
       "10585                     0.0                   1.0   \n",
       "10586                     0.0                   0.0   \n",
       "10587                     0.0                   0.0   \n",
       "10588                     0.0                   0.0   \n",
       "10589                     0.0                   0.0   \n",
       "\n",
       "       area_type_Super built-up  Area  location_freq_encode  \n",
       "0                                 1.0              0.009348  \n",
       "1                                 0.0              0.001228  \n",
       "2                                 0.0              0.014353  \n",
       "3                                 1.0              0.001700  \n",
       "4                                 1.0              0.004060  \n",
       "...                               ...                   ...  \n",
       "10585                             0.0              0.001039  \n",
       "10586                             1.0              0.003777  \n",
       "10587                             1.0              0.000283  \n",
       "10588                             1.0              0.000283  \n",
       "10589                             1.0              0.001983  \n",
       "\n",
       "[10590 rows x 9 columns]"
      ]
     },
     "execution_count": 29,
     "metadata": {},
     "output_type": "execute_result"
    }
   ],
   "source": [
    "data"
   ]
  },
  {
   "cell_type": "code",
   "execution_count": 30,
   "id": "0c0fd1ac",
   "metadata": {},
   "outputs": [
    {
     "data": {
      "text/plain": [
       "Index(['size', 'bath', 'balcony', 'total_sqft_converted',\n",
       "       'area_type_Built-up  Area', 'area_type_Carpet  Area',\n",
       "       'area_type_Plot  Area', 'area_type_Super built-up  Area',\n",
       "       'location_freq_encode'],\n",
       "      dtype='object')"
      ]
     },
     "execution_count": 30,
     "metadata": {},
     "output_type": "execute_result"
    }
   ],
   "source": [
    "data.columns"
   ]
  },
  {
   "cell_type": "code",
   "execution_count": 31,
   "id": "118e8034",
   "metadata": {},
   "outputs": [],
   "source": [
    "df_num = data[['size', 'bath', 'balcony', 'total_sqft_converted']]\n",
    "\n",
    "# Select categorical columns (encoded area_type columns and location_freq_encode)\n",
    "df_cat = data[['area_type_Built-up  Area', 'area_type_Carpet  Area',\n",
    "       'area_type_Plot  Area', 'area_type_Super built-up  Area',\n",
    "       'location_freq_encode']]"
   ]
  },
  {
   "cell_type": "code",
   "execution_count": 32,
   "id": "bd22c141",
   "metadata": {},
   "outputs": [],
   "source": [
    "# scaling on numberic columns\n",
    "sc = StandardScaler()\n",
    "data_sc = sc.fit_transform(df_num)\n",
    "data_sc = pd.DataFrame(data_sc , columns = df_num.columns)\n",
    "\n",
    "#data_sc = pd.concat([d_cat , data_sc] ,axis = 1)"
   ]
  },
  {
   "cell_type": "code",
   "execution_count": 33,
   "id": "087f3200",
   "metadata": {},
   "outputs": [
    {
     "data": {
      "text/plain": [
       "(10590, 4)"
      ]
     },
     "execution_count": 33,
     "metadata": {},
     "output_type": "execute_result"
    }
   ],
   "source": [
    "data_sc.shape"
   ]
  },
  {
   "cell_type": "code",
   "execution_count": 34,
   "id": "678c7d4e",
   "metadata": {},
   "outputs": [],
   "source": [
    "data_sc = pd.concat([df_cat , data_sc] ,axis = 1)"
   ]
  },
  {
   "cell_type": "code",
   "execution_count": 35,
   "id": "ee63bc13",
   "metadata": {},
   "outputs": [
    {
     "data": {
      "text/html": [
       "<div>\n",
       "<style scoped>\n",
       "    .dataframe tbody tr th:only-of-type {\n",
       "        vertical-align: middle;\n",
       "    }\n",
       "\n",
       "    .dataframe tbody tr th {\n",
       "        vertical-align: top;\n",
       "    }\n",
       "\n",
       "    .dataframe thead th {\n",
       "        text-align: right;\n",
       "    }\n",
       "</style>\n",
       "<table border=\"1\" class=\"dataframe\">\n",
       "  <thead>\n",
       "    <tr style=\"text-align: right;\">\n",
       "      <th></th>\n",
       "      <th>area_type_Built-up  Area</th>\n",
       "      <th>area_type_Carpet  Area</th>\n",
       "      <th>area_type_Plot  Area</th>\n",
       "      <th>area_type_Super built-up  Area</th>\n",
       "      <th>location_freq_encode</th>\n",
       "      <th>size</th>\n",
       "      <th>bath</th>\n",
       "      <th>balcony</th>\n",
       "      <th>total_sqft_converted</th>\n",
       "    </tr>\n",
       "  </thead>\n",
       "  <tbody>\n",
       "    <tr>\n",
       "      <th>0</th>\n",
       "      <td>0.0</td>\n",
       "      <td>0.0</td>\n",
       "      <td>0.0</td>\n",
       "      <td>1.0</td>\n",
       "      <td>0.009348</td>\n",
       "      <td>-0.797629</td>\n",
       "      <td>-0.626039</td>\n",
       "      <td>-0.74099</td>\n",
       "      <td>-0.712389</td>\n",
       "    </tr>\n",
       "    <tr>\n",
       "      <th>1</th>\n",
       "      <td>0.0</td>\n",
       "      <td>0.0</td>\n",
       "      <td>1.0</td>\n",
       "      <td>0.0</td>\n",
       "      <td>0.001228</td>\n",
       "      <td>1.655011</td>\n",
       "      <td>1.743424</td>\n",
       "      <td>1.73287</td>\n",
       "      <td>1.992027</td>\n",
       "    </tr>\n",
       "    <tr>\n",
       "      <th>2</th>\n",
       "      <td>1.0</td>\n",
       "      <td>0.0</td>\n",
       "      <td>0.0</td>\n",
       "      <td>0.0</td>\n",
       "      <td>0.014353</td>\n",
       "      <td>0.428691</td>\n",
       "      <td>-0.626039</td>\n",
       "      <td>1.73287</td>\n",
       "      <td>0.046191</td>\n",
       "    </tr>\n",
       "    <tr>\n",
       "      <th>3</th>\n",
       "      <td>0.0</td>\n",
       "      <td>0.0</td>\n",
       "      <td>0.0</td>\n",
       "      <td>1.0</td>\n",
       "      <td>0.001700</td>\n",
       "      <td>0.428691</td>\n",
       "      <td>0.558692</td>\n",
       "      <td>-0.74099</td>\n",
       "      <td>0.206204</td>\n",
       "    </tr>\n",
       "    <tr>\n",
       "      <th>4</th>\n",
       "      <td>0.0</td>\n",
       "      <td>0.0</td>\n",
       "      <td>0.0</td>\n",
       "      <td>1.0</td>\n",
       "      <td>0.004060</td>\n",
       "      <td>-0.797629</td>\n",
       "      <td>-0.626039</td>\n",
       "      <td>-0.74099</td>\n",
       "      <td>-0.427922</td>\n",
       "    </tr>\n",
       "    <tr>\n",
       "      <th>...</th>\n",
       "      <td>...</td>\n",
       "      <td>...</td>\n",
       "      <td>...</td>\n",
       "      <td>...</td>\n",
       "      <td>...</td>\n",
       "      <td>...</td>\n",
       "      <td>...</td>\n",
       "      <td>...</td>\n",
       "      <td>...</td>\n",
       "    </tr>\n",
       "    <tr>\n",
       "      <th>10585</th>\n",
       "      <td>0.0</td>\n",
       "      <td>0.0</td>\n",
       "      <td>1.0</td>\n",
       "      <td>0.0</td>\n",
       "      <td>0.001039</td>\n",
       "      <td>-2.023949</td>\n",
       "      <td>-1.810771</td>\n",
       "      <td>-1.97792</td>\n",
       "      <td>-0.427922</td>\n",
       "    </tr>\n",
       "    <tr>\n",
       "      <th>10586</th>\n",
       "      <td>0.0</td>\n",
       "      <td>0.0</td>\n",
       "      <td>0.0</td>\n",
       "      <td>1.0</td>\n",
       "      <td>0.003777</td>\n",
       "      <td>-0.797629</td>\n",
       "      <td>-0.626039</td>\n",
       "      <td>-0.74099</td>\n",
       "      <td>-0.309394</td>\n",
       "    </tr>\n",
       "    <tr>\n",
       "      <th>10587</th>\n",
       "      <td>0.0</td>\n",
       "      <td>0.0</td>\n",
       "      <td>0.0</td>\n",
       "      <td>1.0</td>\n",
       "      <td>0.000283</td>\n",
       "      <td>-0.797629</td>\n",
       "      <td>-0.626039</td>\n",
       "      <td>-0.74099</td>\n",
       "      <td>-0.641272</td>\n",
       "    </tr>\n",
       "    <tr>\n",
       "      <th>10588</th>\n",
       "      <td>0.0</td>\n",
       "      <td>0.0</td>\n",
       "      <td>0.0</td>\n",
       "      <td>1.0</td>\n",
       "      <td>0.000283</td>\n",
       "      <td>-0.797629</td>\n",
       "      <td>-0.626039</td>\n",
       "      <td>-1.97792</td>\n",
       "      <td>-1.164771</td>\n",
       "    </tr>\n",
       "    <tr>\n",
       "      <th>10589</th>\n",
       "      <td>0.0</td>\n",
       "      <td>0.0</td>\n",
       "      <td>0.0</td>\n",
       "      <td>1.0</td>\n",
       "      <td>0.001983</td>\n",
       "      <td>-0.797629</td>\n",
       "      <td>-0.626039</td>\n",
       "      <td>0.49594</td>\n",
       "      <td>-0.117773</td>\n",
       "    </tr>\n",
       "  </tbody>\n",
       "</table>\n",
       "<p>10590 rows × 9 columns</p>\n",
       "</div>"
      ],
      "text/plain": [
       "       area_type_Built-up  Area  area_type_Carpet  Area  area_type_Plot  Area  \\\n",
       "0                           0.0                     0.0                   0.0   \n",
       "1                           0.0                     0.0                   1.0   \n",
       "2                           1.0                     0.0                   0.0   \n",
       "3                           0.0                     0.0                   0.0   \n",
       "4                           0.0                     0.0                   0.0   \n",
       "...                         ...                     ...                   ...   \n",
       "10585                       0.0                     0.0                   1.0   \n",
       "10586                       0.0                     0.0                   0.0   \n",
       "10587                       0.0                     0.0                   0.0   \n",
       "10588                       0.0                     0.0                   0.0   \n",
       "10589                       0.0                     0.0                   0.0   \n",
       "\n",
       "       area_type_Super built-up  Area  location_freq_encode      size  \\\n",
       "0                                 1.0              0.009348 -0.797629   \n",
       "1                                 0.0              0.001228  1.655011   \n",
       "2                                 0.0              0.014353  0.428691   \n",
       "3                                 1.0              0.001700  0.428691   \n",
       "4                                 1.0              0.004060 -0.797629   \n",
       "...                               ...                   ...       ...   \n",
       "10585                             0.0              0.001039 -2.023949   \n",
       "10586                             1.0              0.003777 -0.797629   \n",
       "10587                             1.0              0.000283 -0.797629   \n",
       "10588                             1.0              0.000283 -0.797629   \n",
       "10589                             1.0              0.001983 -0.797629   \n",
       "\n",
       "           bath  balcony  total_sqft_converted  \n",
       "0     -0.626039 -0.74099             -0.712389  \n",
       "1      1.743424  1.73287              1.992027  \n",
       "2     -0.626039  1.73287              0.046191  \n",
       "3      0.558692 -0.74099              0.206204  \n",
       "4     -0.626039 -0.74099             -0.427922  \n",
       "...         ...      ...                   ...  \n",
       "10585 -1.810771 -1.97792             -0.427922  \n",
       "10586 -0.626039 -0.74099             -0.309394  \n",
       "10587 -0.626039 -0.74099             -0.641272  \n",
       "10588 -0.626039 -1.97792             -1.164771  \n",
       "10589 -0.626039  0.49594             -0.117773  \n",
       "\n",
       "[10590 rows x 9 columns]"
      ]
     },
     "execution_count": 35,
     "metadata": {},
     "output_type": "execute_result"
    }
   ],
   "source": [
    "data_sc"
   ]
  },
  {
   "cell_type": "code",
   "execution_count": 36,
   "id": "b66c8d3c",
   "metadata": {},
   "outputs": [],
   "source": [
    "inp = data_sc  # features\n",
    "out = Y        # target variable\n",
    "\n",
    "# splitting the data to test and train data\n",
    "x_train, x_test, y_train, y_test = train_test_split(inp, out, test_size=0.2, random_state=42)"
   ]
  },
  {
   "cell_type": "code",
   "execution_count": 37,
   "id": "63aa591c",
   "metadata": {},
   "outputs": [
    {
     "data": {
      "text/plain": [
       "LinearRegression()"
      ]
     },
     "execution_count": 37,
     "metadata": {},
     "output_type": "execute_result"
    }
   ],
   "source": [
    "## Building the model\n",
    "\n",
    "lr = LinearRegression()\n",
    "model_lr = lr.fit(x_train, y_train)\n",
    "model_lr"
   ]
  },
  {
   "cell_type": "markdown",
   "id": "8ed74aa4",
   "metadata": {},
   "source": [
    "#### Checking the error metrics"
   ]
  },
  {
   "cell_type": "code",
   "execution_count": 38,
   "id": "95fcd1c9",
   "metadata": {},
   "outputs": [
    {
     "data": {
      "text/plain": [
       "(0.7012266487887681, 32.12245373926256)"
      ]
     },
     "execution_count": 38,
     "metadata": {},
     "output_type": "execute_result"
    }
   ],
   "source": [
    "def rmse(y_test, y_pred):\n",
    "    return np.sqrt(mean_squared_error(y_test, y_pred))\n",
    "\n",
    "\n",
    "lr_score = model_lr.score(x_test, y_test) # with all num var 0.7842744111909903\n",
    "lr_rmse = rmse(y_test, model_lr.predict(x_test))\n",
    "lr_score, lr_rmse"
   ]
  },
  {
   "cell_type": "code",
   "execution_count": 39,
   "id": "140fd1b4",
   "metadata": {},
   "outputs": [],
   "source": [
    "## prediction on X_test\n",
    "\n",
    "y_pred = model_lr.predict(x_test)"
   ]
  },
  {
   "cell_type": "code",
   "execution_count": 40,
   "id": "a0e57cce",
   "metadata": {},
   "outputs": [
    {
     "name": "stdout",
     "output_type": "stream",
     "text": [
      "Mean Absolute Error (MAE): 23.326586771128426\n",
      "Mean Squared Error (MSE): 1031.852034231063\n",
      "Root Mean Squared Error (RMSE): 32.12245373926256\n",
      "R-squared: 0.7012266487887681\n"
     ]
    }
   ],
   "source": [
    "from sklearn.metrics import mean_absolute_error, mean_squared_error, r2_score\n",
    "\n",
    "mae = mean_absolute_error(y_test, y_pred)\n",
    "mse = mean_squared_error(y_test, y_pred)\n",
    "rmse = np.sqrt(mse)\n",
    "r2 = r2_score(y_test, y_pred)\n",
    "\n",
    "# Display the results\n",
    "print(f\"Mean Absolute Error (MAE): {mae}\")\n",
    "print(f\"Mean Squared Error (MSE): {mse}\")\n",
    "print(f\"Root Mean Squared Error (RMSE): {rmse}\")\n",
    "print(f\"R-squared: {r2}\")"
   ]
  },
  {
   "cell_type": "code",
   "execution_count": 41,
   "id": "0bfc4dcd",
   "metadata": {},
   "outputs": [
    {
     "data": {
      "image/png": "[encoded data removed]",
      "text/plain": [
       "<Figure size 432x288 with 1 Axes>"
      ]
     },
     "metadata": {
      "needs_background": "light"
     },
     "output_type": "display_data"
    },
    {
     "data": {
      "text/plain": [
       "<Figure size 1440x1080 with 0 Axes>"
      ]
     },
     "metadata": {},
     "output_type": "display_data"
    }
   ],
   "source": [
    "import matplotlib.pyplot as plt\n",
    "from sklearn.model_selection import learning_curve\n",
    "\n",
    "# Generate learning curves\n",
    "train_sizes, train_scores, test_scores = learning_curve(model_lr, inp, out, cv=5, n_jobs=-1, train_sizes=np.linspace(0.1, 1.0, 10))\n",
    "\n",
    "# Calculate mean and standard deviation for training scores\n",
    "train_scores_mean = train_scores.mean(axis=1)\n",
    "train_scores_std = train_scores.std(axis=1)\n",
    "\n",
    "# Calculate mean and standard deviation for test scores\n",
    "test_scores_mean = test_scores.mean(axis=1)\n",
    "test_scores_std = test_scores.std(axis=1)\n",
    "\n",
    "# Plot learning curves\n",
    "plt.figure()\n",
    "plt.title(\"Learning Curves\")\n",
    "plt.xlabel(\"Training examples\")\n",
    "plt.ylabel(\"Score\")\n",
    "plt.ylim(0, 1.1)\n",
    "plt.grid()\n",
    "\n",
    "# Plot the training score\n",
    "plt.fill_between(train_sizes, train_scores_mean - train_scores_std, train_scores_mean + train_scores_std, alpha=0.1, color=\"r\")\n",
    "plt.plot(train_sizes, train_scores_mean, 'o-', color=\"r\", label=\"Training score\")\n",
    "\n",
    "# Plot the validation score\n",
    "plt.fill_between(train_sizes, test_scores_mean - test_scores_std, test_scores_mean + test_scores_std, alpha=0.1, color=\"g\")\n",
    "plt.plot(train_sizes, test_scores_mean, 'o-', color=\"g\", label=\"Validation score\")\n",
    "\n",
    "plt.legend(loc=\"best\")\n",
    "plt.figure(figsize=[20,15])\n",
    "plt.show()"
   ]
  },
  {
   "cell_type": "code",
   "execution_count": 42,
   "id": "4ea72a07",
   "metadata": {},
   "outputs": [
    {
     "data": {
      "text/plain": [
       "array([-1047.50248301, -1007.10917626, -1051.81214626, -1091.42781163,\n",
       "       -1030.49070657])"
      ]
     },
     "execution_count": 42,
     "metadata": {},
     "output_type": "execute_result"
    }
   ],
   "source": [
    "from sklearn.model_selection import cross_val_score\n",
    "\n",
    "cv_score = cross_val_score(model_lr , inp,out , cv = 5,scoring='neg_mean_squared_error')\n",
    "cv_score"
   ]
  },
  {
   "cell_type": "code",
   "execution_count": 43,
   "id": "8ed9bc4e",
   "metadata": {},
   "outputs": [
    {
     "data": {
      "text/plain": [
       "(1031.852034231063, 1045.668464747018)"
      ]
     },
     "execution_count": 43,
     "metadata": {},
     "output_type": "execute_result"
    }
   ],
   "source": [
    "mse , np.abs(cv_score.mean())"
   ]
  },
  {
   "cell_type": "code",
   "execution_count": 44,
   "id": "be3316ea",
   "metadata": {},
   "outputs": [],
   "source": [
    "### mse of the model and cv_score for different folds in not varying much"
   ]
  },
  {
   "cell_type": "markdown",
   "id": "5870ec39",
   "metadata": {},
   "source": [
    "The cross-validation scores indicate that our model's performance is stable and consistent across different subsets of the data. The mean CV score being close to the original MSE is a good sign, showing that our model has good generalization ability."
   ]
  },
  {
   "cell_type": "markdown",
   "id": "c1afc5b1",
   "metadata": {},
   "source": [
    "#### Tuning hyperparameters"
   ]
  },
  {
   "cell_type": "code",
   "execution_count": 45,
   "id": "3ebacf6b",
   "metadata": {},
   "outputs": [
    {
     "name": "stdout",
     "output_type": "stream",
     "text": [
      "Best Parameters: {'alpha': 0.1, 'fit_intercept': True, 'solver': 'auto'}\n",
      "Best Cross-Validation Score: 1049.5823431182744\n"
     ]
    }
   ],
   "source": [
    "from sklearn.model_selection import GridSearchCV\n",
    "from sklearn.linear_model import Ridge\n",
    "\n",
    "# Define the model\n",
    "ridge = Ridge()\n",
    "\n",
    "# Define the hyperparameters and their values\n",
    "param_grid = {\n",
    "    'alpha': [0.1, 0.2, 0.3,  0.5 , 0.8 , 1, 5 , 2,  10, 100],\n",
    "    'fit_intercept': [True, False],\n",
    "    'solver': ['auto', 'svd', 'cholesky', 'lsqr']\n",
    "}\n",
    "\n",
    "# Define the Grid Search\n",
    "grid_search = GridSearchCV(estimator=ridge, param_grid=param_grid, cv=5, scoring='neg_mean_squared_error')\n",
    "\n",
    "grid_search.fit(x_train, y_train)\n",
    "\n",
    "# Get the best parameters and score\n",
    "best_params = grid_search.best_params_\n",
    "best_score = grid_search.best_score_\n",
    "\n",
    "print(\"Best Parameters:\", best_params)\n",
    "print(\"Best Cross-Validation Score:\", -best_score)\n"
   ]
  },
  {
   "cell_type": "code",
   "execution_count": 46,
   "id": "cd47cfe8",
   "metadata": {},
   "outputs": [
    {
     "name": "stdout",
     "output_type": "stream",
     "text": [
      "Mean Absolute Error (MAE): 23.314130174592435\n",
      "Mean Squared Error (MSE): 1031.774870629275\n",
      "Root Mean Squared Error (RMSE): 32.12245373926256\n",
      "R-squared: 0.7012489915541384\n"
     ]
    }
   ],
   "source": [
    "from sklearn.metrics import mean_absolute_error, mean_squared_error, r2_score\n",
    "\n",
    "y_pred_grid_scv = grid_search.predict(x_test)\n",
    "\n",
    "mae_gcv = mean_absolute_error(y_test, y_pred_grid_scv)\n",
    "mse_gcv = mean_squared_error(y_test, y_pred_grid_scv)\n",
    "rmse_gcv = np.sqrt(mse)\n",
    "r2_gcv = r2_score(y_test, y_pred_grid_scv)\n",
    "\n",
    "# Display the results\n",
    "print(f\"Mean Absolute Error (MAE): {mae_gcv}\")\n",
    "print(f\"Mean Squared Error (MSE): {mse_gcv}\")\n",
    "print(f\"Root Mean Squared Error (RMSE): {rmse_gcv}\")\n",
    "print(f\"R-squared: {r2_gcv}\")"
   ]
  },
  {
   "cell_type": "code",
   "execution_count": 47,
   "id": "21b4570c",
   "metadata": {},
   "outputs": [],
   "source": [
    "# to make use of the added benefit of hyperparameter optimization and potential robustness in different data scenarios\n",
    "# I'm using Grid Search Model for making prediction"
   ]
  },
  {
   "cell_type": "code",
   "execution_count": 48,
   "id": "9c5785e6",
   "metadata": {},
   "outputs": [],
   "source": [
    "from sklearn.linear_model import LinearRegression\n",
    "from statsmodels.stats.outliers_influence import variance_inflation_factor\n",
    "from statsmodels.stats.stattools import durbin_watson\n",
    "from scipy.stats import probplot\n",
    "\n",
    "y_train_pred = grid_search.predict(x_train)\n",
    "residuals = y_train - y_train_pred"
   ]
  },
  {
   "cell_type": "markdown",
   "id": "ee832e5a",
   "metadata": {},
   "source": [
    "### Linear Regression Assumptions\n",
    "\n",
    "#### 1. Multicollinearity (Variance Inflation Factor)"
   ]
  },
  {
   "cell_type": "code",
   "execution_count": 49,
   "id": "0b46ec10",
   "metadata": {},
   "outputs": [
    {
     "name": "stdout",
     "output_type": "stream",
     "text": [
      "Variance Inflation Factor (VIF):\n",
      "                           feature       VIF\n",
      "0                           const  0.000000\n",
      "1        area_type_Built-up  Area       inf\n",
      "2          area_type_Carpet  Area       inf\n",
      "3            area_type_Plot  Area       inf\n",
      "4  area_type_Super built-up  Area       inf\n",
      "5            location_freq_encode  1.027255\n",
      "6                            size  4.303264\n",
      "7                            bath  4.441111\n",
      "8                         balcony  1.168849\n",
      "9            total_sqft_converted  2.036059\n"
     ]
    },
    {
     "name": "stderr",
     "output_type": "stream",
     "text": [
      "C:\\DS_AI\\lib\\site-packages\\statsmodels\\regression\\linear_model.py:1736: RuntimeWarning: divide by zero encountered in double_scalars\n",
      "  return 1 - self.ssr/self.centered_tss\n",
      "C:\\DS_AI\\lib\\site-packages\\statsmodels\\stats\\outliers_influence.py:195: RuntimeWarning: divide by zero encountered in double_scalars\n",
      "  vif = 1. / (1. - r_squared_i)\n"
     ]
    }
   ],
   "source": [
    "# 3. Multicollinearity (Variance Inflation Factor)\n",
    "# Add constant term to predictors\n",
    "x_train_sm = sm.add_constant(x_train)\n",
    "vif_data = pd.DataFrame()\n",
    "vif_data[\"feature\"] = x_train_sm.columns\n",
    "vif_data[\"VIF\"] = [variance_inflation_factor(x_train_sm.values, i) for i in range(x_train_sm.shape[1])]\n",
    "\n",
    "print(\"Variance Inflation Factor (VIF):\\n\", vif_data)"
   ]
  },
  {
   "cell_type": "code",
   "execution_count": 50,
   "id": "71337598",
   "metadata": {},
   "outputs": [
    {
     "name": "stdout",
     "output_type": "stream",
     "text": [
      "Variance Inflation Factor (VIF):\n",
      "                           feature       VIF\n",
      "0          area_type_Carpet  Area  1.004549\n",
      "1            area_type_Plot  Area  1.330283\n",
      "2  area_type_Super built-up  Area  1.513813\n",
      "3            location_freq_encode  1.496770\n",
      "4                            size  4.301660\n",
      "5                            bath  4.435453\n",
      "6                         balcony  1.165646\n",
      "7            total_sqft_converted  2.033981\n"
     ]
    }
   ],
   "source": [
    "x_train1 = x_train.drop(columns = 'area_type_Built-up  Area' , axis = 1)\n",
    "\n",
    "vif_data = pd.DataFrame()\n",
    "vif_data[\"feature\"] = x_train1.columns\n",
    "vif_data[\"VIF\"] = [variance_inflation_factor(x_train1.values, i) for i in range(x_train1.shape[1])]  # extarcting each columns \n",
    "                                                                                    # and calculating VIF for each column\n",
    "print(\"Variance Inflation Factor (VIF):\\n\", vif_data)"
   ]
  },
  {
   "cell_type": "markdown",
   "id": "39de7014",
   "metadata": {},
   "source": [
    "#### Rebuild the model with grid search CV"
   ]
  },
  {
   "cell_type": "code",
   "execution_count": 51,
   "id": "ff59b44a",
   "metadata": {},
   "outputs": [
    {
     "name": "stdout",
     "output_type": "stream",
     "text": [
      "Best Parameters: {'alpha': 0.1, 'fit_intercept': True, 'solver': 'svd'}\n",
      "Best Cross-Validation Score: 1049.5826194457225\n"
     ]
    }
   ],
   "source": [
    "from sklearn.model_selection import GridSearchCV\n",
    "from sklearn.linear_model import Ridge\n",
    "\n",
    "# Define the model\n",
    "ridge = Ridge()\n",
    "\n",
    "# Define the hyperparameters and their values\n",
    "param_grid = {\n",
    "    'alpha': [0.1, 0.2, 0.3,  0.5 , 0.8 , 1, 5 , 2,  10, 100],\n",
    "    'fit_intercept': [True, False],\n",
    "    'solver': ['auto', 'svd', 'cholesky', 'lsqr']\n",
    "}\n",
    "\n",
    "# Define the Grid Search\n",
    "grid_search = GridSearchCV(estimator=ridge, param_grid=param_grid, cv=5, scoring='neg_mean_squared_error')\n",
    "\n",
    "grid_search.fit(x_train1, y_train)\n",
    "\n",
    "# Get the best parameters and score\n",
    "best_params = grid_search.best_params_\n",
    "best_score = grid_search.best_score_\n",
    "\n",
    "print(\"Best Parameters:\", best_params)\n",
    "print(\"Best Cross-Validation Score:\", -best_score)\n",
    "\n",
    "y_train_pred = grid_search.predict(x_train1)\n",
    "residuals = y_train - y_train_pred\n"
   ]
  },
  {
   "cell_type": "markdown",
   "id": "31115bf5",
   "metadata": {},
   "source": [
    "#### 2. Linearity "
   ]
  },
  {
   "cell_type": "code",
   "execution_count": 52,
   "id": "691205cb",
   "metadata": {},
   "outputs": [
    {
     "data": {
      "image/png": "[encoded data removed]",
      "text/plain": [
       "<Figure size 432x288 with 1 Axes>"
      ]
     },
     "metadata": {
      "needs_background": "light"
     },
     "output_type": "display_data"
    }
   ],
   "source": [
    "# plotting a scatter plot of the actual target values against the predicted values\n",
    "\n",
    "sns.scatterplot(x = y_train , y = grid_search.predict(x_train1))  \n",
    "plt.show()"
   ]
  },
  {
   "cell_type": "code",
   "execution_count": 53,
   "id": "0644a000",
   "metadata": {},
   "outputs": [],
   "source": [
    "### actual target values against the predicted values has linear relationship"
   ]
  },
  {
   "cell_type": "code",
   "execution_count": 54,
   "id": "8f99b62a",
   "metadata": {},
   "outputs": [
    {
     "data": {
      "image/png": "[encoded data removed]",
      "text/plain": [
       "<Figure size 432x288 with 1 Axes>"
      ]
     },
     "metadata": {
      "needs_background": "light"
     },
     "output_type": "display_data"
    },
    {
     "data": {
      "image/png": "[encoded data removed]",
      "text/plain": [
       "<Figure size 432x288 with 1 Axes>"
      ]
     },
     "metadata": {
      "needs_background": "light"
     },
     "output_type": "display_data"
    },
    {
     "data": {
      "image/png": "[encoded data removed]",
      "text/plain": [
       "<Figure size 432x288 with 1 Axes>"
      ]
     },
     "metadata": {
      "needs_background": "light"
     },
     "output_type": "display_data"
    },
    {
     "data": {
      "image/png": "[encoded data removed]",
      "text/plain": [
       "<Figure size 432x288 with 1 Axes>"
      ]
     },
     "metadata": {
      "needs_background": "light"
     },
     "output_type": "display_data"
    },
    {
     "data": {
      "image/png": "[encoded data removed]",
      "text/plain": [
       "<Figure size 432x288 with 1 Axes>"
      ]
     },
     "metadata": {
      "needs_background": "light"
     },
     "output_type": "display_data"
    },
    {
     "data": {
      "image/png": "[encoded data removed]",
      "text/plain": [
       "<Figure size 432x288 with 1 Axes>"
      ]
     },
     "metadata": {
      "needs_background": "light"
     },
     "output_type": "display_data"
    },
    {
     "data": {
      "image/png": "[encoded data removed]",
      "text/plain": [
       "<Figure size 432x288 with 1 Axes>"
      ]
     },
     "metadata": {
      "needs_background": "light"
     },
     "output_type": "display_data"
    },
    {
     "data": {
      "image/png": "[encoded data removed]",
      "text/plain": [
       "<Figure size 432x288 with 1 Axes>"
      ]
     },
     "metadata": {
      "needs_background": "light"
     },
     "output_type": "display_data"
    }
   ],
   "source": [
    "# there shouldn't be any pattern when we plot for residue v/s input variable. it should be uniformly distributed\n",
    "for i in x_train1.columns:\n",
    "    sns.scatterplot(x = x_train1[i] , y = residuals)\n",
    "    plt.show()"
   ]
  },
  {
   "cell_type": "markdown",
   "id": "343c352e",
   "metadata": {},
   "source": [
    "#### 3.Normality "
   ]
  },
  {
   "cell_type": "code",
   "execution_count": 55,
   "id": "239e9fa3",
   "metadata": {},
   "outputs": [
    {
     "name": "stderr",
     "output_type": "stream",
     "text": [
      "C:\\DS_AI\\lib\\site-packages\\seaborn\\distributions.py:2619: FutureWarning: `distplot` is a deprecated function and will be removed in a future version. Please adapt your code to use either `displot` (a figure-level function with similar flexibility) or `histplot` (an axes-level function for histograms).\n",
      "  warnings.warn(msg, FutureWarning)\n"
     ]
    },
    {
     "data": {
      "text/plain": [
       "<AxesSubplot:xlabel='price', ylabel='Density'>"
      ]
     },
     "execution_count": 55,
     "metadata": {},
     "output_type": "execute_result"
    },
    {
     "data": {
      "image/png": "[encoded data removed]",
      "text/plain": [
       "<Figure size 432x288 with 1 Axes>"
      ]
     },
     "metadata": {
      "needs_background": "light"
     },
     "output_type": "display_data"
    }
   ],
   "source": [
    "sns.distplot(residuals)"
   ]
  },
  {
   "cell_type": "code",
   "execution_count": 56,
   "id": "15fee0fa",
   "metadata": {},
   "outputs": [
    {
     "data": {
      "text/plain": [
       "0.5734464307935456"
      ]
     },
     "execution_count": 56,
     "metadata": {},
     "output_type": "execute_result"
    }
   ],
   "source": [
    "residuals.skew()"
   ]
  },
  {
   "cell_type": "code",
   "execution_count": 57,
   "id": "483c96f6",
   "metadata": {},
   "outputs": [
    {
     "data": {
      "image/png": "[encoded data removed]",
      "text/plain": [
       "<Figure size 432x288 with 1 Axes>"
      ]
     },
     "metadata": {
      "needs_background": "light"
     },
     "output_type": "display_data"
    }
   ],
   "source": [
    "probplot(residuals, dist=\"norm\", plot=plt)\n",
    "plt.title('Q-Q Plot')\n",
    "plt.show()"
   ]
  },
  {
   "cell_type": "code",
   "execution_count": 58,
   "id": "1eebedd9",
   "metadata": {},
   "outputs": [],
   "source": [
    "## errors are normally distributed"
   ]
  },
  {
   "cell_type": "markdown",
   "id": "c3d677da",
   "metadata": {},
   "source": [
    "#### 4. Auto-correlation"
   ]
  },
  {
   "cell_type": "code",
   "execution_count": 59,
   "id": "badbbe6b",
   "metadata": {},
   "outputs": [
    {
     "name": "stdout",
     "output_type": "stream",
     "text": [
      "Durbin-Watson statistic: 2.0085830829334346\n"
     ]
    }
   ],
   "source": [
    "# Independence of Errors (Durbin-Watson Test)\n",
    "durbin_watson_stat = durbin_watson(residuals)\n",
    "print(\"Durbin-Watson statistic:\", durbin_watson_stat)"
   ]
  },
  {
   "cell_type": "markdown",
   "id": "19257f00",
   "metadata": {},
   "source": [
    "#### 5. Homoscedasticity"
   ]
  },
  {
   "cell_type": "code",
   "execution_count": 60,
   "id": "6e99daae",
   "metadata": {},
   "outputs": [
    {
     "data": {
      "image/png": "[encoded data removed]",
      "text/plain": [
       "<Figure size 432x288 with 1 Axes>"
      ]
     },
     "metadata": {
      "needs_background": "light"
     },
     "output_type": "display_data"
    }
   ],
   "source": [
    "plt.scatter(y_train_pred, residuals)\n",
    "plt.xlabel('Fitted values')\n",
    "plt.ylabel('Residuals')\n",
    "plt.title('Residuals vs Fitted Values')\n",
    "plt.axhline(y=0, color='r', linestyle='--')\n",
    "plt.show()"
   ]
  },
  {
   "cell_type": "markdown",
   "id": "532a5801",
   "metadata": {},
   "source": [
    "#### Prediction"
   ]
  },
  {
   "cell_type": "code",
   "execution_count": 61,
   "id": "ce6f4f3f",
   "metadata": {},
   "outputs": [],
   "source": [
    "test_data = pd.read_csv(r'test_(2)_(1).csv')"
   ]
  },
  {
   "cell_type": "code",
   "execution_count": 62,
   "id": "6f65d13c",
   "metadata": {},
   "outputs": [],
   "source": [
    "test_data_copy = test_data"
   ]
  },
  {
   "cell_type": "code",
   "execution_count": 63,
   "id": "846eb61b",
   "metadata": {},
   "outputs": [],
   "source": [
    "# Define conversion factors\n",
    "conversion_factors = {\n",
    "    'Sq. Meter': 10.7639,  # 1 Sq. Meter = 10.7639 Sq. Ft\n",
    "    'Sq. Yards': 9,        # 1 Sq. Yard = 9 Sq. Ft\n",
    "    'Acres': 43560,        # 1 Acre = 43560 Sq. Ft\n",
    "    'Guntha': 1089,        # 1 Guntha = 1089 Sq. Ft\n",
    "    'Cents': 435.6,        # 1 Cent = 435.6 Sq. Ft\n",
    "    'Perch': 272.25,       # 1 Perch = 272.25 Sq. Ft\n",
    "    'Grounds': 2400        # 1 Ground = 2400 Sq. Ft\n",
    "}\n",
    "\n",
    "# Function to convert to Sq Ft\n",
    "def convert_to_sq_ft(value):\n",
    "    try:\n",
    "        if any(unit in value for unit in conversion_factors):   # Check if the value has a unit or is numeric\n",
    "            for unit in conversion_factors:                     # Split the numeric part and the unit\n",
    "                if unit in value:\n",
    "                    number = float(value.replace(unit, '').strip())\n",
    "                    return number * conversion_factors[unit]     # Convert using the factor\n",
    "        else:                                                    # If no unit is specified, assume the value is already in Sq Ft\n",
    "            return float(value)\n",
    "    except (ValueError, KeyError):\n",
    "        return value                                              # Return the original value if conversion fails\n",
    "\n",
    "def mean_for_range(df):\n",
    "    ind = df.index\n",
    "    for i in ind:\n",
    "        if '-' in df.loc[i, 'total_sqft']:\n",
    "            t = df.loc[i]['total_sqft'].split(sep='-')\n",
    "            df.at[i ,'total_sqft_converted'] = (float(t[0]) + float(t[1]))/2\n",
    "    return df"
   ]
  },
  {
   "cell_type": "code",
   "execution_count": 64,
   "id": "91ce2328",
   "metadata": {},
   "outputs": [],
   "source": [
    "def Data_pre_processing(data):\n",
    "    #data = value\n",
    "    data.drop(columns = ['ID','society','availability'] ,axis = 1 , inplace = True)\n",
    "    data.dropna(subset=['size','location','bath'],inplace = True)\n",
    "    data['balcony'].fillna(data['balcony'].mode()[0], inplace=True)\n",
    "    \n",
    "    data['size'] = data['size'].str.extract(r'(\\d+)')\n",
    "\n",
    "    # converting to int\n",
    "    data['size'] = data['size'].astype('int')\n",
    "\n",
    "    data['total_sqft_converted'] = data['total_sqft'].apply(convert_to_sq_ft)\n",
    "    data = mean_for_range(data)\n",
    "    data['total_sqft_converted'] = data['total_sqft_converted'].astype(float)\n",
    "\n",
    "    #dropping 'total_sqft' since total_sqft_converted is created\n",
    "    data.drop(columns = 'total_sqft',axis = 1,inplace = True)\n",
    "\n",
    "    # standardising the 'location' filed\n",
    "    data['location'] = data['location'].str.strip().str.upper()\n",
    "    \n",
    "    return data"
   ]
  },
  {
   "cell_type": "code",
   "execution_count": 65,
   "id": "46462103",
   "metadata": {},
   "outputs": [],
   "source": [
    "test_data = Data_pre_processing(test_data)"
   ]
  },
  {
   "cell_type": "code",
   "execution_count": 66,
   "id": "5c957623",
   "metadata": {},
   "outputs": [
    {
     "data": {
      "text/html": [
       "<div>\n",
       "<style scoped>\n",
       "    .dataframe tbody tr th:only-of-type {\n",
       "        vertical-align: middle;\n",
       "    }\n",
       "\n",
       "    .dataframe tbody tr th {\n",
       "        vertical-align: top;\n",
       "    }\n",
       "\n",
       "    .dataframe thead th {\n",
       "        text-align: right;\n",
       "    }\n",
       "</style>\n",
       "<table border=\"1\" class=\"dataframe\">\n",
       "  <thead>\n",
       "    <tr style=\"text-align: right;\">\n",
       "      <th></th>\n",
       "      <th>size</th>\n",
       "      <th>bath</th>\n",
       "      <th>balcony</th>\n",
       "      <th>total_sqft_converted</th>\n",
       "    </tr>\n",
       "  </thead>\n",
       "  <tbody>\n",
       "    <tr>\n",
       "      <th>count</th>\n",
       "      <td>2656.000000</td>\n",
       "      <td>2656.000000</td>\n",
       "      <td>2656.000000</td>\n",
       "      <td>2656.000000</td>\n",
       "    </tr>\n",
       "    <tr>\n",
       "      <th>mean</th>\n",
       "      <td>2.812123</td>\n",
       "      <td>2.700678</td>\n",
       "      <td>1.609563</td>\n",
       "      <td>1670.491355</td>\n",
       "    </tr>\n",
       "    <tr>\n",
       "      <th>std</th>\n",
       "      <td>1.226397</td>\n",
       "      <td>1.297112</td>\n",
       "      <td>0.789793</td>\n",
       "      <td>5213.766296</td>\n",
       "    </tr>\n",
       "    <tr>\n",
       "      <th>min</th>\n",
       "      <td>1.000000</td>\n",
       "      <td>1.000000</td>\n",
       "      <td>0.000000</td>\n",
       "      <td>60.000000</td>\n",
       "    </tr>\n",
       "    <tr>\n",
       "      <th>25%</th>\n",
       "      <td>2.000000</td>\n",
       "      <td>2.000000</td>\n",
       "      <td>1.000000</td>\n",
       "      <td>1114.500000</td>\n",
       "    </tr>\n",
       "    <tr>\n",
       "      <th>50%</th>\n",
       "      <td>3.000000</td>\n",
       "      <td>2.000000</td>\n",
       "      <td>2.000000</td>\n",
       "      <td>1290.000000</td>\n",
       "    </tr>\n",
       "    <tr>\n",
       "      <th>75%</th>\n",
       "      <td>3.000000</td>\n",
       "      <td>3.000000</td>\n",
       "      <td>2.000000</td>\n",
       "      <td>1681.750000</td>\n",
       "    </tr>\n",
       "    <tr>\n",
       "      <th>max</th>\n",
       "      <td>18.000000</td>\n",
       "      <td>18.000000</td>\n",
       "      <td>3.000000</td>\n",
       "      <td>261360.000000</td>\n",
       "    </tr>\n",
       "  </tbody>\n",
       "</table>\n",
       "</div>"
      ],
      "text/plain": [
       "              size         bath      balcony  total_sqft_converted\n",
       "count  2656.000000  2656.000000  2656.000000           2656.000000\n",
       "mean      2.812123     2.700678     1.609563           1670.491355\n",
       "std       1.226397     1.297112     0.789793           5213.766296\n",
       "min       1.000000     1.000000     0.000000             60.000000\n",
       "25%       2.000000     2.000000     1.000000           1114.500000\n",
       "50%       3.000000     2.000000     2.000000           1290.000000\n",
       "75%       3.000000     3.000000     2.000000           1681.750000\n",
       "max      18.000000    18.000000     3.000000         261360.000000"
      ]
     },
     "execution_count": 66,
     "metadata": {},
     "output_type": "execute_result"
    }
   ],
   "source": [
    "test_data.describe()"
   ]
  },
  {
   "cell_type": "markdown",
   "id": "dfcb89a4",
   "metadata": {},
   "source": [
    "#### encoding"
   ]
  },
  {
   "cell_type": "code",
   "execution_count": 67,
   "id": "b6519c06",
   "metadata": {},
   "outputs": [
    {
     "name": "stdout",
     "output_type": "stream",
     "text": [
      "(2656, 6)\n",
      "(2656, 4)\n"
     ]
    }
   ],
   "source": [
    "# on area_type\n",
    "encoder = OneHotEncoder(sparse=True)\n",
    "area_enc = encoder.fit_transform(test_data[['area_type']]).toarray()\n",
    "\n",
    "# convert Sparce matrix to dataframe\n",
    "df_area_enc = pd.DataFrame(area_enc ,columns = encoder.get_feature_names_out()).reset_index(drop=True)\n",
    "\n",
    "\n",
    "print(test_data.shape)         \n",
    "print(df_area_enc.shape)\n",
    "\n",
    "\n",
    "test_data.reset_index(drop=True, inplace=True)\n",
    "df_area_enc.reset_index(drop=True, inplace=True)\n",
    "\n",
    "test_data = pd.concat([test_data, df_area_enc], axis=1)"
   ]
  },
  {
   "cell_type": "code",
   "execution_count": 68,
   "id": "964b240b",
   "metadata": {},
   "outputs": [],
   "source": [
    "test_data.drop(columns = 'area_type_Built-up  Area' , axis = 1, inplace = True)"
   ]
  },
  {
   "cell_type": "code",
   "execution_count": 69,
   "id": "58c4cb96",
   "metadata": {},
   "outputs": [],
   "source": [
    "# frequency encoding on location\n",
    "fq = test_data.groupby('location').size()/len(test_data)\n",
    "\n",
    "# mapping values to dataframe\n",
    "test_data.loc[:, \"{}_freq_encode\".format('location')] = test_data['location'].map(fq)"
   ]
  },
  {
   "cell_type": "code",
   "execution_count": 70,
   "id": "ad1ca7fc",
   "metadata": {},
   "outputs": [],
   "source": [
    "test_data.drop(columns=['area_type','location'],axis=1,inplace = True)"
   ]
  },
  {
   "cell_type": "markdown",
   "id": "a322aa4f",
   "metadata": {},
   "source": [
    "#### scaling"
   ]
  },
  {
   "cell_type": "code",
   "execution_count": 71,
   "id": "80fc60b2",
   "metadata": {},
   "outputs": [],
   "source": [
    "test_df_num = test_data[['size', 'bath', 'balcony', 'total_sqft_converted']]\n",
    "\n",
    "# Select categorical columns (encoded area_type columns and location_freq_encode)\n",
    "test_df_cat = test_data[['area_type_Carpet  Area',\n",
    "       'area_type_Plot  Area', 'area_type_Super built-up  Area',\n",
    "       'location_freq_encode']]"
   ]
  },
  {
   "cell_type": "code",
   "execution_count": 72,
   "id": "0eaa0007",
   "metadata": {},
   "outputs": [
    {
     "data": {
      "text/plain": [
       "(2656, 4)"
      ]
     },
     "execution_count": 72,
     "metadata": {},
     "output_type": "execute_result"
    }
   ],
   "source": [
    "test_df_num.shape"
   ]
  },
  {
   "cell_type": "code",
   "execution_count": 73,
   "id": "de6a1adb",
   "metadata": {},
   "outputs": [],
   "source": [
    "sc = StandardScaler()\n",
    "test_data_sc = sc.fit_transform(test_df_num)\n",
    "test_data_sc = pd.DataFrame(test_data_sc , columns = test_df_num.columns)"
   ]
  },
  {
   "cell_type": "code",
   "execution_count": 74,
   "id": "ce4a0689",
   "metadata": {},
   "outputs": [],
   "source": [
    "test_data_sc = pd.concat([test_df_cat , test_data_sc] ,axis = 1)"
   ]
  },
  {
   "cell_type": "code",
   "execution_count": 75,
   "id": "5f5bf2cf",
   "metadata": {},
   "outputs": [],
   "source": [
    "y_pred_test_data = grid_search.predict(test_data_sc)"
   ]
  },
  {
   "cell_type": "code",
   "execution_count": 76,
   "id": "c2196a75",
   "metadata": {},
   "outputs": [],
   "source": [
    "result = pd.DataFrame(y_pred_test_data)"
   ]
  },
  {
   "cell_type": "code",
   "execution_count": 77,
   "id": "46546b30",
   "metadata": {},
   "outputs": [
    {
     "data": {
      "text/html": [
       "<div>\n",
       "<style scoped>\n",
       "    .dataframe tbody tr th:only-of-type {\n",
       "        vertical-align: middle;\n",
       "    }\n",
       "\n",
       "    .dataframe tbody tr th {\n",
       "        vertical-align: top;\n",
       "    }\n",
       "\n",
       "    .dataframe thead th {\n",
       "        text-align: right;\n",
       "    }\n",
       "</style>\n",
       "<table border=\"1\" class=\"dataframe\">\n",
       "  <thead>\n",
       "    <tr style=\"text-align: right;\">\n",
       "      <th></th>\n",
       "      <th>0</th>\n",
       "    </tr>\n",
       "  </thead>\n",
       "  <tbody>\n",
       "    <tr>\n",
       "      <th>0</th>\n",
       "      <td>62.971890</td>\n",
       "    </tr>\n",
       "    <tr>\n",
       "      <th>1</th>\n",
       "      <td>77.268884</td>\n",
       "    </tr>\n",
       "    <tr>\n",
       "      <th>2</th>\n",
       "      <td>83.742117</td>\n",
       "    </tr>\n",
       "    <tr>\n",
       "      <th>3</th>\n",
       "      <td>80.067506</td>\n",
       "    </tr>\n",
       "    <tr>\n",
       "      <th>4</th>\n",
       "      <td>107.596481</td>\n",
       "    </tr>\n",
       "    <tr>\n",
       "      <th>...</th>\n",
       "      <td>...</td>\n",
       "    </tr>\n",
       "    <tr>\n",
       "      <th>2651</th>\n",
       "      <td>111.850340</td>\n",
       "    </tr>\n",
       "    <tr>\n",
       "      <th>2652</th>\n",
       "      <td>124.645404</td>\n",
       "    </tr>\n",
       "    <tr>\n",
       "      <th>2653</th>\n",
       "      <td>78.568059</td>\n",
       "    </tr>\n",
       "    <tr>\n",
       "      <th>2654</th>\n",
       "      <td>122.241602</td>\n",
       "    </tr>\n",
       "    <tr>\n",
       "      <th>2655</th>\n",
       "      <td>62.356510</td>\n",
       "    </tr>\n",
       "  </tbody>\n",
       "</table>\n",
       "<p>2656 rows × 1 columns</p>\n",
       "</div>"
      ],
      "text/plain": [
       "               0\n",
       "0      62.971890\n",
       "1      77.268884\n",
       "2      83.742117\n",
       "3      80.067506\n",
       "4     107.596481\n",
       "...          ...\n",
       "2651  111.850340\n",
       "2652  124.645404\n",
       "2653   78.568059\n",
       "2654  122.241602\n",
       "2655   62.356510\n",
       "\n",
       "[2656 rows x 1 columns]"
      ]
     },
     "execution_count": 77,
     "metadata": {},
     "output_type": "execute_result"
    }
   ],
   "source": [
    "result"
   ]
  },
  {
   "cell_type": "code",
   "execution_count": null,
   "id": "61013b14",
   "metadata": {},
   "outputs": [],
   "source": []
  }
 ],
 "metadata": {
  "kernelspec": {
   "display_name": "Python 3 (ipykernel)",
   "language": "python",
   "name": "python3"
  },
  "language_info": {
   "codemirror_mode": {
    "name": "ipython",
    "version": 3
   },
   "file_extension": ".py",
   "mimetype": "text/x-python",
   "name": "python",
   "nbconvert_exporter": "python",
   "pygments_lexer": "ipython3",
   "version": "3.9.12"
  }
 },
 "nbformat": 4,
 "nbformat_minor": 5
}
